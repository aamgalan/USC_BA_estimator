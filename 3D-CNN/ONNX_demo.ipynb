{
  "nbformat": 4,
  "nbformat_minor": 0,
  "metadata": {
    "colab": {
      "provenance": [],
      "collapsed_sections": []
    },
    "kernelspec": {
      "name": "python3",
      "display_name": "Python 3"
    },
    "language_info": {
      "name": "python"
    }
  },
  "cells": [
    {
      "cell_type": "markdown",
      "source": [
        "# Please run this .ipynb in Google Colab with an associated Google Drive account. You may want to consult the following two links to get more information about how to get FREE access to these resources.\n",
        "\n",
        "https://www.google.com/drive/\n",
        "\n",
        "https://colab.research.google.com/"
      ],
      "metadata": {
        "id": "wloEfYTVSCoF"
      }
    },
    {
      "cell_type": "markdown",
      "source": [
        "## (i) Here we install the onnxruntime library"
      ],
      "metadata": {
        "id": "FH7hObA8MWF7"
      }
    },
    {
      "cell_type": "code",
      "source": [
        "!pip install onnxruntime"
      ],
      "metadata": {
        "colab": {
          "base_uri": "https://localhost:8080/"
        },
        "id": "rsG88-B3MXHT",
        "outputId": "841dc04e-9da0-4df5-b1d9-ebb1e809b7e2"
      },
      "execution_count": null,
      "outputs": [
        {
          "output_type": "stream",
          "name": "stdout",
          "text": [
            "Looking in indexes: https://pypi.org/simple, https://us-python.pkg.dev/colab-wheels/public/simple/\n",
            "Requirement already satisfied: onnxruntime in /usr/local/lib/python3.7/dist-packages (1.13.1)\n",
            "Requirement already satisfied: packaging in /usr/local/lib/python3.7/dist-packages (from onnxruntime) (21.3)\n",
            "Requirement already satisfied: numpy>=1.21.6 in /usr/local/lib/python3.7/dist-packages (from onnxruntime) (1.21.6)\n",
            "Requirement already satisfied: flatbuffers in /usr/local/lib/python3.7/dist-packages (from onnxruntime) (1.12)\n",
            "Requirement already satisfied: sympy in /usr/local/lib/python3.7/dist-packages (from onnxruntime) (1.7.1)\n",
            "Requirement already satisfied: coloredlogs in /usr/local/lib/python3.7/dist-packages (from onnxruntime) (15.0.1)\n",
            "Requirement already satisfied: protobuf in /usr/local/lib/python3.7/dist-packages (from onnxruntime) (3.19.6)\n",
            "Requirement already satisfied: humanfriendly>=9.1 in /usr/local/lib/python3.7/dist-packages (from coloredlogs->onnxruntime) (10.0)\n",
            "Requirement already satisfied: pyparsing!=3.0.5,>=2.0.2 in /usr/local/lib/python3.7/dist-packages (from packaging->onnxruntime) (3.0.9)\n",
            "Requirement already satisfied: mpmath>=0.19 in /usr/local/lib/python3.7/dist-packages (from sympy->onnxruntime) (1.2.1)\n"
          ]
        }
      ]
    },
    {
      "cell_type": "markdown",
      "source": [
        "# (ii) Here we import all necessary libraries"
      ],
      "metadata": {
        "id": "JPbocUitRgrr"
      }
    },
    {
      "cell_type": "code",
      "execution_count": null,
      "metadata": {
        "colab": {
          "base_uri": "https://localhost:8080/"
        },
        "id": "NenQjJ2OMPgD",
        "outputId": "8006c529-9d51-4863-d984-6cc36aa8d36d"
      },
      "outputs": [
        {
          "output_type": "stream",
          "name": "stdout",
          "text": [
            "Drive already mounted at /content/drive; to attempt to forcibly remount, call drive.mount(\"/content/drive\", force_remount=True).\n"
          ]
        }
      ],
      "source": [
        "from google.colab import drive\n",
        "drive.mount(\"/content/drive\")\n",
        "import onnxruntime as rt\n",
        "import numpy as np"
      ]
    },
    {
      "cell_type": "markdown",
      "source": [
        "## (iii) Please put all your files at a desired location. Ideally, under \"/content/drive/MyDrive/\" folder. Just upload all your files to the root folder of Google Drive should work."
      ],
      "metadata": {
        "id": "7p9H2bT-TepE"
      }
    },
    {
      "cell_type": "markdown",
      "source": [
        "## (iv) Load all necessary files and use our models to make prediction"
      ],
      "metadata": {
        "id": "5wu7RJ7oS7zn"
      }
    },
    {
      "cell_type": "markdown",
      "source": [
        "Model for males"
      ],
      "metadata": {
        "id": "aFQLfzLITTz3"
      }
    },
    {
      "cell_type": "code",
      "source": [
        "providers = ['CPUExecutionProvider']\n",
        "output_path = \"/content/drive/MyDrive/3dcnn-male.onnx\" #Pls change the path and load our onnx model\n",
        "output_names = ['dense_1']\n",
        "m = rt.InferenceSession(output_path, providers=providers)\n",
        "x = np.load(\"/content/drive/MyDrive/cn_males.npy\")# This is the path for the input data. \n",
        "onnx_pred = m.run(output_names, {\"input\": x})"
      ],
      "metadata": {
        "id": "j2eaNvtYMZ5I"
      },
      "execution_count": null,
      "outputs": []
    },
    {
      "cell_type": "code",
      "source": [
        "y = np.load(\"/content/drive/MyDrive/y_cn_males.npy\")# This is CA\n",
        "print(y)\n",
        "print(onnx_pred[0] + 22) # This is predicted BA. There is a bias of 22 to train the model. Now we add it back."
      ],
      "metadata": {
        "colab": {
          "base_uri": "https://localhost:8080/"
        },
        "id": "cW5EXcYVMdcN",
        "outputId": "a4150c5e-57d5-4854-ab18-b3b814338cf2"
      },
      "execution_count": null,
      "outputs": [
        {
          "output_type": "stream",
          "name": "stdout",
          "text": [
            "[79. 67. 66. 23. 57. 69. 67. 71. 28. 68.]\n",
            "[[76.22479 ]\n",
            " [64.5877  ]\n",
            " [63.846954]\n",
            " [22.02018 ]\n",
            " [55.6043  ]\n",
            " [67.97568 ]\n",
            " [63.4654  ]\n",
            " [68.272835]\n",
            " [27.262028]\n",
            " [64.97217 ]]\n"
          ]
        }
      ]
    },
    {
      "cell_type": "markdown",
      "source": [
        "Model for females"
      ],
      "metadata": {
        "id": "ejSfXt9qTWol"
      }
    },
    {
      "cell_type": "code",
      "source": [
        "providers = ['CPUExecutionProvider']\n",
        "output_path = \"/content/drive/MyDrive/3dcnn-female.onnx\"\n",
        "output_names = ['dense_1']\n",
        "m = rt.InferenceSession(output_path, providers=providers)\n",
        "x = np.load(\"/content/drive/MyDrive/cn_females.npy\")\n",
        "onnx_pred = m.run(output_names, {\"input\": x})"
      ],
      "metadata": {
        "id": "0CoSA73ySC7L"
      },
      "execution_count": null,
      "outputs": []
    },
    {
      "cell_type": "code",
      "source": [
        "y = np.load(\"/content/drive/MyDrive/y_cn_females.npy\")\n",
        "print(y)\n",
        "print(onnx_pred[0] + 22) # There is a bias of 22 to train the model. Now we add it back."
      ],
      "metadata": {
        "colab": {
          "base_uri": "https://localhost:8080/"
        },
        "id": "JiU5MKYQSMhg",
        "outputId": "9af63eb8-f6c6-4f4e-e4c3-f8af81586dbb"
      },
      "execution_count": null,
      "outputs": [
        {
          "output_type": "stream",
          "name": "stdout",
          "text": [
            "[29. 23. 52. 66. 60. 72. 74. 57. 64. 48.]\n",
            "[[30.903347]\n",
            " [26.209435]\n",
            " [53.66224 ]\n",
            " [65.57459 ]\n",
            " [63.46093 ]\n",
            " [71.929565]\n",
            " [72.86903 ]\n",
            " [57.87299 ]\n",
            " [63.05902 ]\n",
            " [51.093704]]\n"
          ]
        }
      ]
    }
  ]
}