{
  "nbformat": 4,
  "nbformat_minor": 0,
  "metadata": {
    "colab": {
      "provenance": [],
      "collapsed_sections": []
    },
    "kernelspec": {
      "name": "python3",
      "display_name": "Python 3"
    },
    "language_info": {
      "name": "python"
    }
  },
  "cells": [
    {
      "cell_type": "markdown",
      "source": [
        "# Please run this .ipynb in Google Colab with an associated Google Drive account. You may want to consult the following two links to get more information about how to get FREE access to these resources.\n",
        "\n",
        "https://www.google.com/drive/\n",
        "\n",
        "https://colab.research.google.com/"
      ],
      "metadata": {
        "id": "wloEfYTVSCoF"
      }
    },
    {
      "cell_type": "markdown",
      "source": [
        "## (i) Here we install the onnxruntime library"
      ],
      "metadata": {
        "id": "FH7hObA8MWF7"
      }
    },
    {
      "cell_type": "code",
      "source": [
        "!pip install onnxruntime"
      ],
      "metadata": {
        "colab": {
          "base_uri": "https://localhost:8080/"
        },
        "id": "rsG88-B3MXHT",
        "outputId": "841dc04e-9da0-4df5-b1d9-ebb1e809b7e2"
      },
      "execution_count": null,
      "outputs": [
        {
          "output_type": "stream",
          "name": "stdout",
          "text": [
            "Looking in indexes: https://pypi.org/simple, https://us-python.pkg.dev/colab-wheels/public/simple/\n",
            "Requirement already satisfied: onnxruntime in /usr/local/lib/python3.7/dist-packages (1.13.1)\n",
            "Requirement already satisfied: packaging in /usr/local/lib/python3.7/dist-packages (from onnxruntime) (21.3)\n",
            "Requirement already satisfied: numpy>=1.21.6 in /usr/local/lib/python3.7/dist-packages (from onnxruntime) (1.21.6)\n",
            "Requirement already satisfied: flatbuffers in /usr/local/lib/python3.7/dist-packages (from onnxruntime) (1.12)\n",
            "Requirement already satisfied: sympy in /usr/local/lib/python3.7/dist-packages (from onnxruntime) (1.7.1)\n",
            "Requirement already satisfied: coloredlogs in /usr/local/lib/python3.7/dist-packages (from onnxruntime) (15.0.1)\n",
            "Requirement already satisfied: protobuf in /usr/local/lib/python3.7/dist-packages (from onnxruntime) (3.19.6)\n",
            "Requirement already satisfied: humanfriendly>=9.1 in /usr/local/lib/python3.7/dist-packages (from coloredlogs->onnxruntime) (10.0)\n",
            "Requirement already satisfied: pyparsing!=3.0.5,>=2.0.2 in /usr/local/lib/python3.7/dist-packages (from packaging->onnxruntime) (3.0.9)\n",
            "Requirement already satisfied: mpmath>=0.19 in /usr/local/lib/python3.7/dist-packages (from sympy->onnxruntime) (1.2.1)\n"
          ]
        }
      ]
    },
    {
      "cell_type": "markdown",
      "source": [
        "# (ii) Here we import all necessary libraries"
      ],
      "metadata": {
        "id": "JPbocUitRgrr"
      }
    },
    {
      "cell_type": "code",
      "execution_count": null,
      "metadata": {
        "colab": {
          "base_uri": "https://localhost:8080/"
        },
        "id": "NenQjJ2OMPgD",
        "outputId": "8006c529-9d51-4863-d984-6cc36aa8d36d"
      },
      "outputs": [
        {
          "output_type": "stream",
          "name": "stdout",
          "text": [
            "Drive already mounted at /content/drive; to attempt to forcibly remount, call drive.mount(\"/content/drive\", force_remount=True).\n"
          ]
        }
      ],
      "source": [
        "from google.colab import drive\n",
        "drive.mount(\"/content/drive\")\n",
        "import onnxruntime as rt\n",
        "import numpy as np\n",
        "import matplotlib.pyplot as plt\n",
        "import os \n",
        "import skimage as ski\n",
        "import skimage.feature\n",
        "import matplotlib.pyplot as plt\n",
        "import nibabel                      as nib\n",
        "import nibabel.freesurfer.mghformat as mgh\n",
        "\n",
        "\n",
        "from scipy.ndimage import zoom"
      ]
    },
    {
      "cell_type": "markdown",
      "source": [
        "## (iii) Please put all your files at a desired location. Ideally, under \"/content/drive/MyDrive/\" folder. Just upload all your files to the root folder of Google Drive should work."
      ],
      "metadata": {
        "id": "7p9H2bT-TepE"
      }
    },
    {
      "cell_type": "markdown",
      "source": [
        "## (iv) Preprocessing the data. Convert the mgz format into npy. "
      ],
      "metadata": {
        "id": "GF3UdsWh41cl"
      }
    },
    {
      "cell_type": "code",
      "source": [
        "\n",
        "brains=[]\n",
        "path=\"\" # path to the folder (brain.mgz)\n",
        "files=os.listdir(path)\n",
        "for file in files:\n",
        "  mgh_file = mgh.load(path+'/'+file)# for each mgz file\n",
        "  new_array = zoom(mgh_file.get_data(), (0.5, 0.5, 0.5))\n",
        "  brains.append(new_array)\n",
        "brains=np.asarray(brains)\n",
        "# rescale brain matrices from 128*128*128 to 82*86*100\n",
        "X=brains\n",
        "coord=[]\n",
        "x_range=0\n",
        "y_range=0\n",
        "z_range=0\n",
        "for i in range(X.shape[0]):\n",
        "  buf=X[i, :, :, :]\n",
        "  buf=buf.reshape((128,128,128))\n",
        "  xmin=0\n",
        "  xmax=0\n",
        "  ymin=0\n",
        "  ymax=0\n",
        "  zmin=0\n",
        "  zmax=0\n",
        "  for xm in range(0, 128):\n",
        "    if np.sum(buf[xm, :, :])>50:\n",
        "      xmin=xm\n",
        "      break\n",
        "  for xm in range(0, 128):\n",
        "    if np.sum(buf[127-xm, :, :])>50:\n",
        "      xmax=127-xm\n",
        "      break\n",
        "  for ym in range(0,128):\n",
        "    if np.sum(buf[:, ym, :])>50:\n",
        "      ymin=ym\n",
        "      break\n",
        "  for ym in range(0, 128):\n",
        "    if np.sum(buf[:, 127-ym, :])>50:\n",
        "      ymax=127-ym\n",
        "      break\n",
        "  for zm in range(0, 128):\n",
        "    if np.sum(buf[:, :, zm])>50:\n",
        "      zmin=zm\n",
        "      break\n",
        "  for zm in range(0, 128):\n",
        "    if np.sum(buf[:, :, 127-zm])>50:\n",
        "      zmax=127-zm\n",
        "      break\n",
        "  td=[]\n",
        "  td.append(abs(xmax+xmin)/2)\n",
        "  td.append(abs(ymax+ymin)/2)\n",
        "  td.append(abs(zmax+zmin)/2)\n",
        "  coord.append(td)\n",
        "\n",
        "x_range=82\n",
        "y_range=86\n",
        "z_range=100\n",
        "date1=[]\n",
        "data_new=[]\n",
        "label=[]\n",
        "id_list=[]\n",
        "for i in range(X.shape[0]):\n",
        "  buf=X[i, :, :, :]\n",
        "  co=coord[i]\n",
        "  buf=buf.reshape((128,128,128))\n",
        "  data_new.append(buf[int(int(co[0])-(x_range/2)):int(int(co[0])+(x_range/2)), int(int(co[1])-(y_range/2)):int(int(co[1])+(y_range/2)), int(int(co[2])-(z_range/2)):int(int(co[2])+(z_range/2))])\n",
        "np.save(\"brains.npy\", data_new) # save the processed data\n",
        "\n"
      ],
      "metadata": {
        "id": "akIBJpBO5EcQ"
      },
      "execution_count": null,
      "outputs": []
    },
    {
      "cell_type": "markdown",
      "source": [
        "## (v) Load all necessary files and use our models to make prediction"
      ],
      "metadata": {
        "id": "5wu7RJ7oS7zn"
      }
    },
    {
      "cell_type": "code",
      "source": [
        "providers = ['CPUExecutionProvider']\n",
        "output_path = \"/content/drive/MyDrive/3dcnn.onnx\" #Pls change the path and load our onnx model\n",
        "output_names = ['dense_1']\n",
        "m = rt.InferenceSession(output_path, providers=providers)\n",
        "x = np.load(\"brains.npy\")# This is the path for the input data. \n",
        "onnx_pred = m.run(output_names, {\"input\": x})\n",
        "onnex_pred=onnx_pred[0] + 22 # This is predicted BA. There is a bias of 22 to train the model. Now we add it back.\n",
        "print(onnx_pred[0])"
      ],
      "metadata": {
        "id": "j2eaNvtYMZ5I"
      },
      "execution_count": null,
      "outputs": []
    }
  ]
}